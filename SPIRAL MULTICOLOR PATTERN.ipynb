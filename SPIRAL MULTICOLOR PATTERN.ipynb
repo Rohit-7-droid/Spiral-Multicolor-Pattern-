{
 "cells": [
  {
   "cell_type": "code",
   "execution_count": 1,
   "metadata": {},
   "outputs": [],
   "source": [
    "import turtle\n",
    "import time\n",
    "def draw():\n",
    "    colors=[\"blue\",\"red\",\"green\",\"yellow\",\"orange\",\"brown\"]\n",
    "    turtle.pensize(5)\n",
    "    turtle.bgcolor(\"black\")\n",
    "    turtle.speed(1000)\n",
    "    \n",
    "    \n",
    "    for x in range(360):\n",
    "        turtle.pencolor(colors[x % len(colors)])\n",
    "        turtle.pensize(x/50)\n",
    "        turtle.forward(x)\n",
    "        turtle.left(59)\n",
    "        \n",
    "draw()\n",
    "time.sleep(5)"
   ]
  },
  {
   "cell_type": "code",
   "execution_count": null,
   "metadata": {},
   "outputs": [],
   "source": []
  },
  {
   "cell_type": "code",
   "execution_count": null,
   "metadata": {},
   "outputs": [],
   "source": []
  }
 ],
 "metadata": {
  "kernelspec": {
   "display_name": "Python 3",
   "language": "python",
   "name": "python3"
  },
  "language_info": {
   "codemirror_mode": {
    "name": "ipython",
    "version": 3
   },
   "file_extension": ".py",
   "mimetype": "text/x-python",
   "name": "python",
   "nbconvert_exporter": "python",
   "pygments_lexer": "ipython3",
   "version": "3.7.1"
  }
 },
 "nbformat": 4,
 "nbformat_minor": 2
}
